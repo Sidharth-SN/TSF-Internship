{
 "cells": [
  {
   "cell_type": "markdown",
   "metadata": {},
   "source": [
    "# The Sparks Foundation - Internship\n",
    "### Data Science and Business Analytics"
   ]
  },
  {
   "cell_type": "markdown",
   "metadata": {},
   "source": [
    "## Sidharth S N"
   ]
  },
  {
   "cell_type": "markdown",
   "metadata": {},
   "source": [
    " "
   ]
  },
  {
   "cell_type": "raw",
   "metadata": {},
   "source": [
   "|------------------------------------------------------------------------------------------------------------------------------------------------------------------------------------------------------------------------------------------------------|"
   ]
  },
  {
   "cell_type": "markdown",
   "metadata": {},
   "source": [
    "Task 7: Create a hybrid model for stock price or performance prediction using numerical analysis of historical stock prices, and sentimental analysis of news headlines."
   ]
  },
  {
   "cell_type": "raw",
   "metadata": {},
   "source": [
  "|------------------------------------------------------------------------------------------------------------------------------------------------------------------------------------------------------------------------------------------------------|"
   ]
  },
  {
   "cell_type": "markdown",
   "metadata": {},
   "source": [
    "***"
   ]
  },
  {
   "cell_type": "markdown",
   "metadata": {},
   "source": [
    "Importing the libraries"
   ]
  },
  {
   "cell_type": "code",
   "execution_count": 1,
   "metadata": {},
   "outputs": [],
   "source": [
    "import numpy as np\n",
    "import pandas as pd\n",
    "import matplotlib.pyplot as plt\n",
    "import seaborn as sns"
   ]
  },
  {
   "cell_type": "markdown",
   "metadata": {},
   "source": [
    "***"
   ]
  },
  {
   "cell_type": "markdown",
   "metadata": {},
   "source": [
    "Getting the datasets"
   ]
  },
  {
   "cell_type": "code",
   "execution_count": null,
   "metadata": {},
   "outputs": [],
   "source": [
    "pip install yfinance --upgrade --no-cache-dir"
   ]
  },
  {
   "cell_type": "code",
   "execution_count": 2,
   "metadata": {},
   "outputs": [
    {
     "name": "stdout",
     "output_type": "stream",
     "text": [
      "[*********************100%***********************]  1 of 1 completed\n"
     ]
    }
   ],
   "source": [
    "# Downloading the historical stock price dataset\n",
    "import yfinance as yf\n",
    "stock_price = yf.download('^BSESN', start = '2001-02-01', end = '2020-12-31')"
   ]
  },
  {
   "cell_type": "code",
   "execution_count": 3,
   "metadata": {
    "scrolled": true
   },
   "outputs": [
    {
     "data": {
      "text/html": [
       "<div>\n",
       "<style scoped>\n",
       "    .dataframe tbody tr th:only-of-type {\n",
       "        vertical-align: middle;\n",
       "    }\n",
       "\n",
       "    .dataframe tbody tr th {\n",
       "        vertical-align: top;\n",
       "    }\n",
       "\n",
       "    .dataframe thead th {\n",
       "        text-align: right;\n",
       "    }\n",
       "</style>\n",
       "<table border=\"1\" class=\"dataframe\">\n",
       "  <thead>\n",
       "    <tr style=\"text-align: right;\">\n",
       "      <th></th>\n",
       "      <th>Open</th>\n",
       "      <th>High</th>\n",
       "      <th>Low</th>\n",
       "      <th>Close</th>\n",
       "      <th>Adj Close</th>\n",
       "      <th>Volume</th>\n",
       "    </tr>\n",
       "    <tr>\n",
       "      <th>Date</th>\n",
       "      <th></th>\n",
       "      <th></th>\n",
       "      <th></th>\n",
       "      <th></th>\n",
       "      <th></th>\n",
       "      <th></th>\n",
       "    </tr>\n",
       "  </thead>\n",
       "  <tbody>\n",
       "    <tr>\n",
       "      <th>2001-02-01</th>\n",
       "      <td>4303.129883</td>\n",
       "      <td>4355.390137</td>\n",
       "      <td>4230.169922</td>\n",
       "      <td>4286.109863</td>\n",
       "      <td>4286.109863</td>\n",
       "      <td>0</td>\n",
       "    </tr>\n",
       "    <tr>\n",
       "      <th>2001-02-02</th>\n",
       "      <td>4280.959961</td>\n",
       "      <td>4373.399902</td>\n",
       "      <td>4280.959961</td>\n",
       "      <td>4352.259766</td>\n",
       "      <td>4352.259766</td>\n",
       "      <td>0</td>\n",
       "    </tr>\n",
       "    <tr>\n",
       "      <th>2001-02-05</th>\n",
       "      <td>4337.520020</td>\n",
       "      <td>4397.189941</td>\n",
       "      <td>4337.520020</td>\n",
       "      <td>4370.470215</td>\n",
       "      <td>4370.470215</td>\n",
       "      <td>0</td>\n",
       "    </tr>\n",
       "    <tr>\n",
       "      <th>2001-02-06</th>\n",
       "      <td>4392.240234</td>\n",
       "      <td>4404.669922</td>\n",
       "      <td>4369.930176</td>\n",
       "      <td>4375.290039</td>\n",
       "      <td>4375.290039</td>\n",
       "      <td>0</td>\n",
       "    </tr>\n",
       "    <tr>\n",
       "      <th>2001-02-07</th>\n",
       "      <td>4376.919922</td>\n",
       "      <td>4379.220215</td>\n",
       "      <td>4303.279785</td>\n",
       "      <td>4312.930176</td>\n",
       "      <td>4312.930176</td>\n",
       "      <td>0</td>\n",
       "    </tr>\n",
       "  </tbody>\n",
       "</table>\n",
       "</div>"
      ],
      "text/plain": [
       "                   Open         High          Low        Close    Adj Close  \\\n",
       "Date                                                                          \n",
       "2001-02-01  4303.129883  4355.390137  4230.169922  4286.109863  4286.109863   \n",
       "2001-02-02  4280.959961  4373.399902  4280.959961  4352.259766  4352.259766   \n",
       "2001-02-05  4337.520020  4397.189941  4337.520020  4370.470215  4370.470215   \n",
       "2001-02-06  4392.240234  4404.669922  4369.930176  4375.290039  4375.290039   \n",
       "2001-02-07  4376.919922  4379.220215  4303.279785  4312.930176  4312.930176   \n",
       "\n",
       "            Volume  \n",
       "Date                \n",
       "2001-02-01       0  \n",
       "2001-02-02       0  \n",
       "2001-02-05       0  \n",
       "2001-02-06       0  \n",
       "2001-02-07       0  "
      ]
     },
     "execution_count": 3,
     "metadata": {},
     "output_type": "execute_result"
    }
   ],
   "source": [
    "stock_price.head()"
   ]
  },
  {
   "cell_type": "code",
   "execution_count": 4,
   "metadata": {},
   "outputs": [
    {
     "name": "stdout",
     "output_type": "stream",
     "text": [
      "<class 'pandas.core.frame.DataFrame'>\n",
      "DatetimeIndex: 4900 entries, 2001-02-01 to 2020-12-30\n",
      "Data columns (total 6 columns):\n",
      " #   Column     Non-Null Count  Dtype  \n",
      "---  ------     --------------  -----  \n",
      " 0   Open       4900 non-null   float64\n",
      " 1   High       4900 non-null   float64\n",
      " 2   Low        4900 non-null   float64\n",
      " 3   Close      4900 non-null   float64\n",
      " 4   Adj Close  4900 non-null   float64\n",
      " 5   Volume     4900 non-null   int64  \n",
      "dtypes: float64(5), int64(1)\n",
      "memory usage: 268.0 KB\n"
     ]
    }
   ],
   "source": [
    "stock_price.info()"
   ]
  },
  {
   "cell_type": "code",
   "execution_count": 5,
   "metadata": {},
   "outputs": [
    {
     "data": {
      "text/html": [
       "<div>\n",
       "<style scoped>\n",
       "    .dataframe tbody tr th:only-of-type {\n",
       "        vertical-align: middle;\n",
       "    }\n",
       "\n",
       "    .dataframe tbody tr th {\n",
       "        vertical-align: top;\n",
       "    }\n",
       "\n",
       "    .dataframe thead th {\n",
       "        text-align: right;\n",
       "    }\n",
       "</style>\n",
       "<table border=\"1\" class=\"dataframe\">\n",
       "  <thead>\n",
       "    <tr style=\"text-align: right;\">\n",
       "      <th></th>\n",
       "      <th>Open</th>\n",
       "      <th>High</th>\n",
       "      <th>Low</th>\n",
       "      <th>Close</th>\n",
       "      <th>Adj Close</th>\n",
       "      <th>Volume</th>\n",
       "    </tr>\n",
       "  </thead>\n",
       "  <tbody>\n",
       "    <tr>\n",
       "      <th>count</th>\n",
       "      <td>4900.000000</td>\n",
       "      <td>4900.000000</td>\n",
       "      <td>4900.000000</td>\n",
       "      <td>4900.000000</td>\n",
       "      <td>4900.000000</td>\n",
       "      <td>4.900000e+03</td>\n",
       "    </tr>\n",
       "    <tr>\n",
       "      <th>mean</th>\n",
       "      <td>18674.056613</td>\n",
       "      <td>18786.580850</td>\n",
       "      <td>18525.187287</td>\n",
       "      <td>18653.680758</td>\n",
       "      <td>18653.680758</td>\n",
       "      <td>8.059100e+04</td>\n",
       "    </tr>\n",
       "    <tr>\n",
       "      <th>std</th>\n",
       "      <td>11253.619874</td>\n",
       "      <td>11292.997983</td>\n",
       "      <td>11184.387141</td>\n",
       "      <td>11236.527770</td>\n",
       "      <td>11236.527770</td>\n",
       "      <td>1.069207e+06</td>\n",
       "    </tr>\n",
       "    <tr>\n",
       "      <th>min</th>\n",
       "      <td>2621.889893</td>\n",
       "      <td>2682.590088</td>\n",
       "      <td>2594.870117</td>\n",
       "      <td>2600.120117</td>\n",
       "      <td>2600.120117</td>\n",
       "      <td>0.000000e+00</td>\n",
       "    </tr>\n",
       "    <tr>\n",
       "      <th>25%</th>\n",
       "      <td>8904.364746</td>\n",
       "      <td>8999.562744</td>\n",
       "      <td>8762.110107</td>\n",
       "      <td>8884.662842</td>\n",
       "      <td>8884.662842</td>\n",
       "      <td>9.400000e+03</td>\n",
       "    </tr>\n",
       "    <tr>\n",
       "      <th>50%</th>\n",
       "      <td>17640.580078</td>\n",
       "      <td>17744.129883</td>\n",
       "      <td>17490.370117</td>\n",
       "      <td>17614.235352</td>\n",
       "      <td>17614.235352</td>\n",
       "      <td>1.400000e+04</td>\n",
       "    </tr>\n",
       "    <tr>\n",
       "      <th>75%</th>\n",
       "      <td>27307.301758</td>\n",
       "      <td>27433.792969</td>\n",
       "      <td>27146.559570</td>\n",
       "      <td>27275.723145</td>\n",
       "      <td>27275.723145</td>\n",
       "      <td>2.080000e+04</td>\n",
       "    </tr>\n",
       "    <tr>\n",
       "      <th>max</th>\n",
       "      <td>47789.031250</td>\n",
       "      <td>47807.851562</td>\n",
       "      <td>47361.898438</td>\n",
       "      <td>47746.218750</td>\n",
       "      <td>47746.218750</td>\n",
       "      <td>3.181510e+07</td>\n",
       "    </tr>\n",
       "  </tbody>\n",
       "</table>\n",
       "</div>"
      ],
      "text/plain": [
       "               Open          High           Low         Close     Adj Close  \\\n",
       "count   4900.000000   4900.000000   4900.000000   4900.000000   4900.000000   \n",
       "mean   18674.056613  18786.580850  18525.187287  18653.680758  18653.680758   \n",
       "std    11253.619874  11292.997983  11184.387141  11236.527770  11236.527770   \n",
       "min     2621.889893   2682.590088   2594.870117   2600.120117   2600.120117   \n",
       "25%     8904.364746   8999.562744   8762.110107   8884.662842   8884.662842   \n",
       "50%    17640.580078  17744.129883  17490.370117  17614.235352  17614.235352   \n",
       "75%    27307.301758  27433.792969  27146.559570  27275.723145  27275.723145   \n",
       "max    47789.031250  47807.851562  47361.898438  47746.218750  47746.218750   \n",
       "\n",
       "             Volume  \n",
       "count  4.900000e+03  \n",
       "mean   8.059100e+04  \n",
       "std    1.069207e+06  \n",
       "min    0.000000e+00  \n",
       "25%    9.400000e+03  \n",
       "50%    1.400000e+04  \n",
       "75%    2.080000e+04  \n",
       "max    3.181510e+07  "
      ]
     },
     "execution_count": 5,
     "metadata": {},
     "output_type": "execute_result"
    }
   ],
   "source": [
    "stock_price.describe()"
   ]
  },
  {
   "cell_type": "code",
   "execution_count": 6,
   "metadata": {},
   "outputs": [],
   "source": [
    "# Stock headlines/news dataset\n",
    "stock_news = pd.read_csv('india-news-headlines.csv')"
   ]
  },
  {
   "cell_type": "code",
   "execution_count": 7,
   "metadata": {},
   "outputs": [
    {
     "data": {
      "text/html": [
       "<div>\n",
       "<style scoped>\n",
       "    .dataframe tbody tr th:only-of-type {\n",
       "        vertical-align: middle;\n",
       "    }\n",
       "\n",
       "    .dataframe tbody tr th {\n",
       "        vertical-align: top;\n",
       "    }\n",
       "\n",
       "    .dataframe thead th {\n",
       "        text-align: right;\n",
       "    }\n",
       "</style>\n",
       "<table border=\"1\" class=\"dataframe\">\n",
       "  <thead>\n",
       "    <tr style=\"text-align: right;\">\n",
       "      <th></th>\n",
       "      <th>publish_date</th>\n",
       "      <th>headline_category</th>\n",
       "      <th>headline_text</th>\n",
       "    </tr>\n",
       "  </thead>\n",
       "  <tbody>\n",
       "    <tr>\n",
       "      <th>0</th>\n",
       "      <td>20010102</td>\n",
       "      <td>unknown</td>\n",
       "      <td>Status quo will not be disturbed at Ayodhya; s...</td>\n",
       "    </tr>\n",
       "    <tr>\n",
       "      <th>1</th>\n",
       "      <td>20010102</td>\n",
       "      <td>unknown</td>\n",
       "      <td>Fissures in Hurriyat over Pak visit</td>\n",
       "    </tr>\n",
       "    <tr>\n",
       "      <th>2</th>\n",
       "      <td>20010102</td>\n",
       "      <td>unknown</td>\n",
       "      <td>America's unwanted heading for India?</td>\n",
       "    </tr>\n",
       "    <tr>\n",
       "      <th>3</th>\n",
       "      <td>20010102</td>\n",
       "      <td>unknown</td>\n",
       "      <td>For bigwigs; it is destination Goa</td>\n",
       "    </tr>\n",
       "    <tr>\n",
       "      <th>4</th>\n",
       "      <td>20010102</td>\n",
       "      <td>unknown</td>\n",
       "      <td>Extra buses to clear tourist traffic</td>\n",
       "    </tr>\n",
       "  </tbody>\n",
       "</table>\n",
       "</div>"
      ],
      "text/plain": [
       "   publish_date headline_category  \\\n",
       "0      20010102           unknown   \n",
       "1      20010102           unknown   \n",
       "2      20010102           unknown   \n",
       "3      20010102           unknown   \n",
       "4      20010102           unknown   \n",
       "\n",
       "                                       headline_text  \n",
       "0  Status quo will not be disturbed at Ayodhya; s...  \n",
       "1                Fissures in Hurriyat over Pak visit  \n",
       "2              America's unwanted heading for India?  \n",
       "3                 For bigwigs; it is destination Goa  \n",
       "4               Extra buses to clear tourist traffic  "
      ]
     },
     "execution_count": 7,
     "metadata": {},
     "output_type": "execute_result"
    }
   ],
   "source": [
    "stock_news.head()"
   ]
  },
  {
   "cell_type": "code",
   "execution_count": 8,
   "metadata": {},
   "outputs": [
    {
     "name": "stdout",
     "output_type": "stream",
     "text": [
      "<class 'pandas.core.frame.DataFrame'>\n",
      "RangeIndex: 3424067 entries, 0 to 3424066\n",
      "Data columns (total 3 columns):\n",
      " #   Column             Dtype \n",
      "---  ------             ----- \n",
      " 0   publish_date       int64 \n",
      " 1   headline_category  object\n",
      " 2   headline_text      object\n",
      "dtypes: int64(1), object(2)\n",
      "memory usage: 78.4+ MB\n"
     ]
    }
   ],
   "source": [
    "stock_news.info()"
   ]
  },
  {
   "cell_type": "markdown",
   "metadata": {},
   "source": [
    "***"
   ]
  },
  {
   "cell_type": "markdown",
   "metadata": {},
   "source": [
    "Cleaning the datasets"
   ]
  },
  {
   "cell_type": "code",
   "execution_count": 9,
   "metadata": {},
   "outputs": [],
   "source": [
    "#               --------Stock price dataset-------- \n",
    "# Removing all the null values\n",
    "stock_price.dropna(axis = 0, inplace = True)\n",
    "\n",
    "# Removing the duplicate values\n",
    "stock_price = stock_price.drop_duplicates()\n",
    "\n",
    "# Removing the unwanted column\n",
    "stock_price.reset_index(inplace=True)\n",
    "stock_price.drop('Adj Close', axis = 1, inplace = True)"
   ]
  },
  {
   "cell_type": "code",
   "execution_count": 10,
   "metadata": {},
   "outputs": [
    {
     "data": {
      "text/html": [
       "<div>\n",
       "<style scoped>\n",
       "    .dataframe tbody tr th:only-of-type {\n",
       "        vertical-align: middle;\n",
       "    }\n",
       "\n",
       "    .dataframe tbody tr th {\n",
       "        vertical-align: top;\n",
       "    }\n",
       "\n",
       "    .dataframe thead th {\n",
       "        text-align: right;\n",
       "    }\n",
       "</style>\n",
       "<table border=\"1\" class=\"dataframe\">\n",
       "  <thead>\n",
       "    <tr style=\"text-align: right;\">\n",
       "      <th></th>\n",
       "      <th>Date</th>\n",
       "      <th>Open</th>\n",
       "      <th>High</th>\n",
       "      <th>Low</th>\n",
       "      <th>Close</th>\n",
       "      <th>Volume</th>\n",
       "    </tr>\n",
       "  </thead>\n",
       "  <tbody>\n",
       "    <tr>\n",
       "      <th>0</th>\n",
       "      <td>2001-02-01</td>\n",
       "      <td>4303.129883</td>\n",
       "      <td>4355.390137</td>\n",
       "      <td>4230.169922</td>\n",
       "      <td>4286.109863</td>\n",
       "      <td>0</td>\n",
       "    </tr>\n",
       "    <tr>\n",
       "      <th>1</th>\n",
       "      <td>2001-02-02</td>\n",
       "      <td>4280.959961</td>\n",
       "      <td>4373.399902</td>\n",
       "      <td>4280.959961</td>\n",
       "      <td>4352.259766</td>\n",
       "      <td>0</td>\n",
       "    </tr>\n",
       "    <tr>\n",
       "      <th>2</th>\n",
       "      <td>2001-02-05</td>\n",
       "      <td>4337.520020</td>\n",
       "      <td>4397.189941</td>\n",
       "      <td>4337.520020</td>\n",
       "      <td>4370.470215</td>\n",
       "      <td>0</td>\n",
       "    </tr>\n",
       "    <tr>\n",
       "      <th>3</th>\n",
       "      <td>2001-02-06</td>\n",
       "      <td>4392.240234</td>\n",
       "      <td>4404.669922</td>\n",
       "      <td>4369.930176</td>\n",
       "      <td>4375.290039</td>\n",
       "      <td>0</td>\n",
       "    </tr>\n",
       "    <tr>\n",
       "      <th>4</th>\n",
       "      <td>2001-02-07</td>\n",
       "      <td>4376.919922</td>\n",
       "      <td>4379.220215</td>\n",
       "      <td>4303.279785</td>\n",
       "      <td>4312.930176</td>\n",
       "      <td>0</td>\n",
       "    </tr>\n",
       "  </tbody>\n",
       "</table>\n",
       "</div>"
      ],
      "text/plain": [
       "        Date         Open         High          Low        Close  Volume\n",
       "0 2001-02-01  4303.129883  4355.390137  4230.169922  4286.109863       0\n",
       "1 2001-02-02  4280.959961  4373.399902  4280.959961  4352.259766       0\n",
       "2 2001-02-05  4337.520020  4397.189941  4337.520020  4370.470215       0\n",
       "3 2001-02-06  4392.240234  4404.669922  4369.930176  4375.290039       0\n",
       "4 2001-02-07  4376.919922  4379.220215  4303.279785  4312.930176       0"
      ]
     },
     "execution_count": 10,
     "metadata": {},
     "output_type": "execute_result"
    }
   ],
   "source": [
    "stock_price[:5]"
   ]
  },
  {
   "cell_type": "markdown",
   "metadata": {},
   "source": [
    " "
   ]
  },
  {
   "cell_type": "code",
   "execution_count": 11,
   "metadata": {},
   "outputs": [],
   "source": [
    "#               --------Stock Headlines/News dataset-------- \n",
    "# Removing the duplicate values\n",
    "stock_news = stock_news.drop_duplicates()\n",
    "\n",
    "# converting the datatype of 'publish_date' to datetime datatype\n",
    "stock_news[\"publish_date\"] = pd.to_datetime(stock_news[\"publish_date\"],format='%Y%m%d')\n",
    "\n",
    "# Removing the unwanted column\n",
    "stock_news.drop('headline_category', axis = 1, inplace = True)\n",
    "\n",
    "# Grouping the news according to date\n",
    "stock_news = stock_news.groupby('publish_date')['headline_text'].apply(lambda x: ','.join(x)).reset_index()"
   ]
  },
  {
   "cell_type": "code",
   "execution_count": 12,
   "metadata": {},
   "outputs": [
    {
     "data": {
      "text/html": [
       "<div>\n",
       "<style scoped>\n",
       "    .dataframe tbody tr th:only-of-type {\n",
       "        vertical-align: middle;\n",
       "    }\n",
       "\n",
       "    .dataframe tbody tr th {\n",
       "        vertical-align: top;\n",
       "    }\n",
       "\n",
       "    .dataframe thead th {\n",
       "        text-align: right;\n",
       "    }\n",
       "</style>\n",
       "<table border=\"1\" class=\"dataframe\">\n",
       "  <thead>\n",
       "    <tr style=\"text-align: right;\">\n",
       "      <th></th>\n",
       "      <th>publish_date</th>\n",
       "      <th>headline_text</th>\n",
       "    </tr>\n",
       "  </thead>\n",
       "  <tbody>\n",
       "    <tr>\n",
       "      <th>0</th>\n",
       "      <td>2001-01-02</td>\n",
       "      <td>Status quo will not be disturbed at Ayodhya; s...</td>\n",
       "    </tr>\n",
       "    <tr>\n",
       "      <th>1</th>\n",
       "      <td>2001-01-03</td>\n",
       "      <td>Powerless north India gropes in the dark,Think...</td>\n",
       "    </tr>\n",
       "    <tr>\n",
       "      <th>2</th>\n",
       "      <td>2001-01-04</td>\n",
       "      <td>The string that pulled Stephen Hawking to Indi...</td>\n",
       "    </tr>\n",
       "    <tr>\n",
       "      <th>3</th>\n",
       "      <td>2001-01-05</td>\n",
       "      <td>Light combat craft takes India into club class...</td>\n",
       "    </tr>\n",
       "    <tr>\n",
       "      <th>4</th>\n",
       "      <td>2001-01-06</td>\n",
       "      <td>Light combat craft takes India into club class...</td>\n",
       "    </tr>\n",
       "  </tbody>\n",
       "</table>\n",
       "</div>"
      ],
      "text/plain": [
       "  publish_date                                      headline_text\n",
       "0   2001-01-02  Status quo will not be disturbed at Ayodhya; s...\n",
       "1   2001-01-03  Powerless north India gropes in the dark,Think...\n",
       "2   2001-01-04  The string that pulled Stephen Hawking to Indi...\n",
       "3   2001-01-05  Light combat craft takes India into club class...\n",
       "4   2001-01-06  Light combat craft takes India into club class..."
      ]
     },
     "execution_count": 12,
     "metadata": {},
     "output_type": "execute_result"
    }
   ],
   "source": [
    "stock_news[:5]"
   ]
  },
  {
   "cell_type": "markdown",
   "metadata": {},
   "source": [
    "***"
   ]
  },
  {
   "cell_type": "markdown",
   "metadata": {},
   "source": [
    "Visualizing the datasets"
   ]
  },
  {
   "cell_type": "code",
   "execution_count": 79,
   "metadata": {},
   "outputs": [
    {
     "data": {
      "text/plain": [
       "<matplotlib.axes._subplots.AxesSubplot at 0x202853b3fa0>"
      ]
     },
     "execution_count": 79,
     "metadata": {},
     "output_type": "execute_result"
    },
    {
     "data": {
      "image/png": "[encoded data removed]",
      "text/plain": [
       "<Figure size 1080x576 with 1 Axes>"
      ]
     },
     "metadata": {
      "needs_background": "light"
     },
     "output_type": "display_data"
    }
   ],
   "source": [
    "# Plot Close\n",
    "plt.figure(figsize = (15,8))\n",
    "stock_price['Close'].plot(color='violet')"
   ]
  },
  {
   "cell_type": "code",
   "execution_count": 64,
   "metadata": {},
   "outputs": [
    {
     "data": {
      "text/plain": [
       "<matplotlib.axes._subplots.AxesSubplot at 0x2710c605df0>"
      ]
     },
     "execution_count": 64,
     "metadata": {},
     "output_type": "execute_result"
    },
    {
     "data": {
      "image/png": "[encoded data removed]",
      "text/plain": [
       "<Figure size 1440x720 with 1 Axes>"
      ]
     },
     "metadata": {
      "needs_background": "light"
     },
     "output_type": "display_data"
    }
   ],
   "source": [
    "# Plot Returns\n",
    "returns = stock_price['Close'] / stock_price['Close'].shift(1) - 1\n",
    "\n",
    "plt.figure(figsize = (20,10))\n",
    "returns.plot(color='lightblue')"
   ]
  },
  {
   "cell_type": "markdown",
   "metadata": {},
   "source": [
    " "
   ]
  },
  {
   "cell_type": "markdown",
   "metadata": {},
   "source": [
    "Combining both the datasets together"
   ]
  },
  {
   "cell_type": "code",
   "execution_count": 13,
   "metadata": {},
   "outputs": [
    {
     "data": {
      "text/html": [
       "<div>\n",
       "<style scoped>\n",
       "    .dataframe tbody tr th:only-of-type {\n",
       "        vertical-align: middle;\n",
       "    }\n",
       "\n",
       "    .dataframe tbody tr th {\n",
       "        vertical-align: top;\n",
       "    }\n",
       "\n",
       "    .dataframe thead th {\n",
       "        text-align: right;\n",
       "    }\n",
       "</style>\n",
       "<table border=\"1\" class=\"dataframe\">\n",
       "  <thead>\n",
       "    <tr style=\"text-align: right;\">\n",
       "      <th></th>\n",
       "      <th>Date</th>\n",
       "      <th>Open</th>\n",
       "      <th>High</th>\n",
       "      <th>Low</th>\n",
       "      <th>Close</th>\n",
       "      <th>Volume</th>\n",
       "      <th>headline_text</th>\n",
       "    </tr>\n",
       "  </thead>\n",
       "  <tbody>\n",
       "    <tr>\n",
       "      <th>0</th>\n",
       "      <td>2001-02-01</td>\n",
       "      <td>4303.129883</td>\n",
       "      <td>4355.390137</td>\n",
       "      <td>4230.169922</td>\n",
       "      <td>4286.109863</td>\n",
       "      <td>0</td>\n",
       "      <td>Army cordons off Anjar; says it's a mass grave...</td>\n",
       "    </tr>\n",
       "    <tr>\n",
       "      <th>1</th>\n",
       "      <td>2001-02-02</td>\n",
       "      <td>4280.959961</td>\n",
       "      <td>4373.399902</td>\n",
       "      <td>4280.959961</td>\n",
       "      <td>4352.259766</td>\n",
       "      <td>0</td>\n",
       "      <td>Gujarat govt yet to get its act together,Pak r...</td>\n",
       "    </tr>\n",
       "    <tr>\n",
       "      <th>2</th>\n",
       "      <td>2001-02-05</td>\n",
       "      <td>4337.520020</td>\n",
       "      <td>4397.189941</td>\n",
       "      <td>4337.520020</td>\n",
       "      <td>4370.470215</td>\n",
       "      <td>0</td>\n",
       "      <td>Official toll put at 16;435; Kutch's share 14;...</td>\n",
       "    </tr>\n",
       "    <tr>\n",
       "      <th>3</th>\n",
       "      <td>2001-02-06</td>\n",
       "      <td>4392.240234</td>\n",
       "      <td>4404.669922</td>\n",
       "      <td>4369.930176</td>\n",
       "      <td>4375.290039</td>\n",
       "      <td>0</td>\n",
       "      <td>PMK withdraws support; but govt safe,Economic ...</td>\n",
       "    </tr>\n",
       "    <tr>\n",
       "      <th>4</th>\n",
       "      <td>2001-02-07</td>\n",
       "      <td>4376.919922</td>\n",
       "      <td>4379.220215</td>\n",
       "      <td>4303.279785</td>\n",
       "      <td>4312.930176</td>\n",
       "      <td>0</td>\n",
       "      <td>Tobacco firms ordered off the field,Consumer c...</td>\n",
       "    </tr>\n",
       "  </tbody>\n",
       "</table>\n",
       "</div>"
      ],
      "text/plain": [
       "        Date         Open         High          Low        Close  Volume  \\\n",
       "0 2001-02-01  4303.129883  4355.390137  4230.169922  4286.109863       0   \n",
       "1 2001-02-02  4280.959961  4373.399902  4280.959961  4352.259766       0   \n",
       "2 2001-02-05  4337.520020  4397.189941  4337.520020  4370.470215       0   \n",
       "3 2001-02-06  4392.240234  4404.669922  4369.930176  4375.290039       0   \n",
       "4 2001-02-07  4376.919922  4379.220215  4303.279785  4312.930176       0   \n",
       "\n",
       "                                       headline_text  \n",
       "0  Army cordons off Anjar; says it's a mass grave...  \n",
       "1  Gujarat govt yet to get its act together,Pak r...  \n",
       "2  Official toll put at 16;435; Kutch's share 14;...  \n",
       "3  PMK withdraws support; but govt safe,Economic ...  \n",
       "4  Tobacco firms ordered off the field,Consumer c...  "
      ]
     },
     "execution_count": 13,
     "metadata": {},
     "output_type": "execute_result"
    }
   ],
   "source": [
    "data = pd.merge(stock_price, stock_news, left_on = 'Date', right_on = 'publish_date')\n",
    "\n",
    "# Removing the common column\n",
    "data.drop('publish_date',axis = 1, inplace = True)\n",
    "data.dropna(axis = 1, inplace = True)\n",
    "data.head()"
   ]
  },
  {
   "cell_type": "markdown",
   "metadata": {},
   "source": [
    " "
   ]
  },
  {
   "cell_type": "markdown",
   "metadata": {},
   "source": [
    "Sentiment Analysis"
   ]
  },
  {
   "cell_type": "code",
   "execution_count": 72,
   "metadata": {},
   "outputs": [
    {
     "name": "stderr",
     "output_type": "stream",
     "text": [
      "[nltk_data] Error loading vader_lexicon: <urlopen error [Errno 11001]\n",
      "[nltk_data]     getaddrinfo failed>\n"
     ]
    },
    {
     "data": {
      "text/plain": [
       "False"
      ]
     },
     "execution_count": 72,
     "metadata": {},
     "output_type": "execute_result"
    }
   ],
   "source": [
    "from nltk.sentiment.vader import SentimentIntensityAnalyzer\n",
    "import nltk\n",
    "nltk.download('vader_lexicon')"
   ]
  },
  {
   "cell_type": "code",
   "execution_count": 17,
   "metadata": {},
   "outputs": [
    {
     "data": {
      "text/html": [
       "<div>\n",
       "<style scoped>\n",
       "    .dataframe tbody tr th:only-of-type {\n",
       "        vertical-align: middle;\n",
       "    }\n",
       "\n",
       "    .dataframe tbody tr th {\n",
       "        vertical-align: top;\n",
       "    }\n",
       "\n",
       "    .dataframe thead th {\n",
       "        text-align: right;\n",
       "    }\n",
       "</style>\n",
       "<table border=\"1\" class=\"dataframe\">\n",
       "  <thead>\n",
       "    <tr style=\"text-align: right;\">\n",
       "      <th></th>\n",
       "      <th>Date</th>\n",
       "      <th>Open</th>\n",
       "      <th>High</th>\n",
       "      <th>Low</th>\n",
       "      <th>Close</th>\n",
       "      <th>Volume</th>\n",
       "      <th>headline_text</th>\n",
       "      <th>Compound</th>\n",
       "      <th>Positive</th>\n",
       "      <th>Neutral</th>\n",
       "      <th>Negative</th>\n",
       "    </tr>\n",
       "  </thead>\n",
       "  <tbody>\n",
       "    <tr>\n",
       "      <th>0</th>\n",
       "      <td>2001-02-01</td>\n",
       "      <td>4303.129883</td>\n",
       "      <td>4355.390137</td>\n",
       "      <td>4230.169922</td>\n",
       "      <td>4286.109863</td>\n",
       "      <td>0</td>\n",
       "      <td>Army cordons off Anjar; says it's a mass grave...</td>\n",
       "      <td>-0.8302</td>\n",
       "      <td>0.066</td>\n",
       "      <td>0.829</td>\n",
       "      <td>0.105</td>\n",
       "    </tr>\n",
       "    <tr>\n",
       "      <th>1</th>\n",
       "      <td>2001-02-02</td>\n",
       "      <td>4280.959961</td>\n",
       "      <td>4373.399902</td>\n",
       "      <td>4280.959961</td>\n",
       "      <td>4352.259766</td>\n",
       "      <td>0</td>\n",
       "      <td>Gujarat govt yet to get its act together,Pak r...</td>\n",
       "      <td>0.9693</td>\n",
       "      <td>0.218</td>\n",
       "      <td>0.714</td>\n",
       "      <td>0.068</td>\n",
       "    </tr>\n",
       "    <tr>\n",
       "      <th>2</th>\n",
       "      <td>2001-02-05</td>\n",
       "      <td>4337.520020</td>\n",
       "      <td>4397.189941</td>\n",
       "      <td>4337.520020</td>\n",
       "      <td>4370.470215</td>\n",
       "      <td>0</td>\n",
       "      <td>Official toll put at 16;435; Kutch's share 14;...</td>\n",
       "      <td>0.5267</td>\n",
       "      <td>0.142</td>\n",
       "      <td>0.740</td>\n",
       "      <td>0.118</td>\n",
       "    </tr>\n",
       "    <tr>\n",
       "      <th>3</th>\n",
       "      <td>2001-02-06</td>\n",
       "      <td>4392.240234</td>\n",
       "      <td>4404.669922</td>\n",
       "      <td>4369.930176</td>\n",
       "      <td>4375.290039</td>\n",
       "      <td>0</td>\n",
       "      <td>PMK withdraws support; but govt safe,Economic ...</td>\n",
       "      <td>0.7650</td>\n",
       "      <td>0.104</td>\n",
       "      <td>0.832</td>\n",
       "      <td>0.064</td>\n",
       "    </tr>\n",
       "    <tr>\n",
       "      <th>4</th>\n",
       "      <td>2001-02-07</td>\n",
       "      <td>4376.919922</td>\n",
       "      <td>4379.220215</td>\n",
       "      <td>4303.279785</td>\n",
       "      <td>4312.930176</td>\n",
       "      <td>0</td>\n",
       "      <td>Tobacco firms ordered off the field,Consumer c...</td>\n",
       "      <td>0.8388</td>\n",
       "      <td>0.127</td>\n",
       "      <td>0.813</td>\n",
       "      <td>0.060</td>\n",
       "    </tr>\n",
       "  </tbody>\n",
       "</table>\n",
       "</div>"
      ],
      "text/plain": [
       "        Date         Open         High          Low        Close  Volume  \\\n",
       "0 2001-02-01  4303.129883  4355.390137  4230.169922  4286.109863       0   \n",
       "1 2001-02-02  4280.959961  4373.399902  4280.959961  4352.259766       0   \n",
       "2 2001-02-05  4337.520020  4397.189941  4337.520020  4370.470215       0   \n",
       "3 2001-02-06  4392.240234  4404.669922  4369.930176  4375.290039       0   \n",
       "4 2001-02-07  4376.919922  4379.220215  4303.279785  4312.930176       0   \n",
       "\n",
       "                                       headline_text  Compound  Positive  \\\n",
       "0  Army cordons off Anjar; says it's a mass grave...   -0.8302     0.066   \n",
       "1  Gujarat govt yet to get its act together,Pak r...    0.9693     0.218   \n",
       "2  Official toll put at 16;435; Kutch's share 14;...    0.5267     0.142   \n",
       "3  PMK withdraws support; but govt safe,Economic ...    0.7650     0.104   \n",
       "4  Tobacco firms ordered off the field,Consumer c...    0.8388     0.127   \n",
       "\n",
       "   Neutral  Negative  \n",
       "0    0.829     0.105  \n",
       "1    0.714     0.068  \n",
       "2    0.740     0.118  \n",
       "3    0.832     0.064  \n",
       "4    0.813     0.060  "
      ]
     },
     "execution_count": 17,
     "metadata": {},
     "output_type": "execute_result"
    }
   ],
   "source": [
    "#Sentiment Analyzer object\n",
    "sia = SentimentIntensityAnalyzer()\n",
    "\n",
    "# Filling the compound column\n",
    "data['Compound'] = data['headline_text'].apply(lambda x: sia.polarity_scores(x)['compound'])\n",
    "# Filling the Positive column\n",
    "data['Positive'] = data['headline_text'].apply(lambda x: sia.polarity_scores(x)['pos'])\n",
    "# Filling the Neutral column\n",
    "data['Neutral'] = data['headline_text'].apply(lambda x: sia.polarity_scores(x)['neu'])\n",
    "# Filling the Negative column\n",
    "data['Negative'] = data['headline_text'].apply(lambda x: sia.polarity_scores(x)['neg'])\n",
    "\n",
    "data.head()"
   ]
  },
  {
   "cell_type": "code",
   "execution_count": 18,
   "metadata": {},
   "outputs": [
    {
     "data": {
      "text/html": [
       "<div>\n",
       "<style scoped>\n",
       "    .dataframe tbody tr th:only-of-type {\n",
       "        vertical-align: middle;\n",
       "    }\n",
       "\n",
       "    .dataframe tbody tr th {\n",
       "        vertical-align: top;\n",
       "    }\n",
       "\n",
       "    .dataframe thead th {\n",
       "        text-align: right;\n",
       "    }\n",
       "</style>\n",
       "<table border=\"1\" class=\"dataframe\">\n",
       "  <thead>\n",
       "    <tr style=\"text-align: right;\">\n",
       "      <th></th>\n",
       "      <th>High</th>\n",
       "      <th>Close</th>\n",
       "      <th>Volume</th>\n",
       "      <th>Compound</th>\n",
       "      <th>Positive</th>\n",
       "      <th>Neutral</th>\n",
       "      <th>Negative</th>\n",
       "    </tr>\n",
       "  </thead>\n",
       "  <tbody>\n",
       "    <tr>\n",
       "      <th>0</th>\n",
       "      <td>4355.390137</td>\n",
       "      <td>4286.109863</td>\n",
       "      <td>0</td>\n",
       "      <td>-0.8302</td>\n",
       "      <td>0.066</td>\n",
       "      <td>0.829</td>\n",
       "      <td>0.105</td>\n",
       "    </tr>\n",
       "    <tr>\n",
       "      <th>1</th>\n",
       "      <td>4373.399902</td>\n",
       "      <td>4352.259766</td>\n",
       "      <td>0</td>\n",
       "      <td>0.9693</td>\n",
       "      <td>0.218</td>\n",
       "      <td>0.714</td>\n",
       "      <td>0.068</td>\n",
       "    </tr>\n",
       "    <tr>\n",
       "      <th>2</th>\n",
       "      <td>4397.189941</td>\n",
       "      <td>4370.470215</td>\n",
       "      <td>0</td>\n",
       "      <td>0.5267</td>\n",
       "      <td>0.142</td>\n",
       "      <td>0.740</td>\n",
       "      <td>0.118</td>\n",
       "    </tr>\n",
       "    <tr>\n",
       "      <th>3</th>\n",
       "      <td>4404.669922</td>\n",
       "      <td>4375.290039</td>\n",
       "      <td>0</td>\n",
       "      <td>0.7650</td>\n",
       "      <td>0.104</td>\n",
       "      <td>0.832</td>\n",
       "      <td>0.064</td>\n",
       "    </tr>\n",
       "    <tr>\n",
       "      <th>4</th>\n",
       "      <td>4379.220215</td>\n",
       "      <td>4312.930176</td>\n",
       "      <td>0</td>\n",
       "      <td>0.8388</td>\n",
       "      <td>0.127</td>\n",
       "      <td>0.813</td>\n",
       "      <td>0.060</td>\n",
       "    </tr>\n",
       "    <tr>\n",
       "      <th>...</th>\n",
       "      <td>...</td>\n",
       "      <td>...</td>\n",
       "      <td>...</td>\n",
       "      <td>...</td>\n",
       "      <td>...</td>\n",
       "      <td>...</td>\n",
       "      <td>...</td>\n",
       "    </tr>\n",
       "    <tr>\n",
       "      <th>4874</th>\n",
       "      <td>46513.320312</td>\n",
       "      <td>46444.179688</td>\n",
       "      <td>10500</td>\n",
       "      <td>-0.9996</td>\n",
       "      <td>0.080</td>\n",
       "      <td>0.800</td>\n",
       "      <td>0.120</td>\n",
       "    </tr>\n",
       "    <tr>\n",
       "      <th>4875</th>\n",
       "      <td>47053.398438</td>\n",
       "      <td>46973.539062</td>\n",
       "      <td>13700</td>\n",
       "      <td>-0.9971</td>\n",
       "      <td>0.064</td>\n",
       "      <td>0.854</td>\n",
       "      <td>0.082</td>\n",
       "    </tr>\n",
       "    <tr>\n",
       "      <th>4876</th>\n",
       "      <td>47406.718750</td>\n",
       "      <td>47353.750000</td>\n",
       "      <td>9600</td>\n",
       "      <td>-0.9997</td>\n",
       "      <td>0.085</td>\n",
       "      <td>0.789</td>\n",
       "      <td>0.126</td>\n",
       "    </tr>\n",
       "    <tr>\n",
       "      <th>4877</th>\n",
       "      <td>47714.550781</td>\n",
       "      <td>47613.078125</td>\n",
       "      <td>12800</td>\n",
       "      <td>-0.9998</td>\n",
       "      <td>0.090</td>\n",
       "      <td>0.774</td>\n",
       "      <td>0.136</td>\n",
       "    </tr>\n",
       "    <tr>\n",
       "      <th>4878</th>\n",
       "      <td>47807.851562</td>\n",
       "      <td>47746.218750</td>\n",
       "      <td>15600</td>\n",
       "      <td>-0.9998</td>\n",
       "      <td>0.077</td>\n",
       "      <td>0.797</td>\n",
       "      <td>0.126</td>\n",
       "    </tr>\n",
       "  </tbody>\n",
       "</table>\n",
       "<p>4879 rows × 7 columns</p>\n",
       "</div>"
      ],
      "text/plain": [
       "              High         Close  Volume  Compound  Positive  Neutral  \\\n",
       "0      4355.390137   4286.109863       0   -0.8302     0.066    0.829   \n",
       "1      4373.399902   4352.259766       0    0.9693     0.218    0.714   \n",
       "2      4397.189941   4370.470215       0    0.5267     0.142    0.740   \n",
       "3      4404.669922   4375.290039       0    0.7650     0.104    0.832   \n",
       "4      4379.220215   4312.930176       0    0.8388     0.127    0.813   \n",
       "...            ...           ...     ...       ...       ...      ...   \n",
       "4874  46513.320312  46444.179688   10500   -0.9996     0.080    0.800   \n",
       "4875  47053.398438  46973.539062   13700   -0.9971     0.064    0.854   \n",
       "4876  47406.718750  47353.750000    9600   -0.9997     0.085    0.789   \n",
       "4877  47714.550781  47613.078125   12800   -0.9998     0.090    0.774   \n",
       "4878  47807.851562  47746.218750   15600   -0.9998     0.077    0.797   \n",
       "\n",
       "      Negative  \n",
       "0        0.105  \n",
       "1        0.068  \n",
       "2        0.118  \n",
       "3        0.064  \n",
       "4        0.060  \n",
       "...        ...  \n",
       "4874     0.120  \n",
       "4875     0.082  \n",
       "4876     0.126  \n",
       "4877     0.136  \n",
       "4878     0.126  \n",
       "\n",
       "[4879 rows x 7 columns]"
      ]
     },
     "execution_count": 18,
     "metadata": {},
     "output_type": "execute_result"
    }
   ],
   "source": [
    "# Removing the unwanted columns\n",
    "data.drop(['Date', 'Open','Low', 'headline_text'], axis = 1, inplace = True)\n",
    "data"
   ]
  },
  {
   "cell_type": "markdown",
   "metadata": {},
   "source": [
    " "
   ]
  },
  {
   "cell_type": "code",
   "execution_count": 20,
   "metadata": {},
   "outputs": [
    {
     "data": {
      "text/plain": [
       "<matplotlib.legend.Legend at 0x1f381d897f0>"
      ]
     },
     "execution_count": 20,
     "metadata": {},
     "output_type": "execute_result"
    },
    {
     "data": {
      "image/png": "[encoded data removed]",
      "text/plain": [
       "<Figure size 1440x720 with 1 Axes>"
      ]
     },
     "metadata": {
      "needs_background": "light"
     },
     "output_type": "display_data"
    }
   ],
   "source": [
    "# Plotting rolling average\n",
    "mean = stock_price['Close'].rolling(window = 50).mean()\n",
    "std = stock_price['Close'].rolling(window = 50).std()\n",
    "\n",
    "plt.figure(figsize=(20,10))\n",
    "data['Close'].plot(color = 'lightgreen', label = 'Close')\n",
    "mean.plot(label = 'Mean')\n",
    "std.plot(color = 'orange', label = 'Standard Deviation')\n",
    "\n",
    "plt.legend()"
   ]
  },
  {
   "cell_type": "markdown",
   "metadata": {},
   "source": [
    "Splitting the data into train and test sets"
   ]
  },
  {
   "cell_type": "code",
   "execution_count": 21,
   "metadata": {},
   "outputs": [],
   "source": [
    "from sklearn.model_selection import train_test_split\n",
    "train_set, test_set = train_test_split(data, test_size=0.2, random_state=42)"
   ]
  },
  {
   "cell_type": "code",
   "execution_count": 22,
   "metadata": {},
   "outputs": [
    {
     "name": "stdout",
     "output_type": "stream",
     "text": [
      "Train set length:  3903\n",
      "test set length:  976\n"
     ]
    }
   ],
   "source": [
    "print('Train set length: ',len(train_set))\n",
    "print('test set length: ',len(test_set))"
   ]
  },
  {
   "cell_type": "code",
   "execution_count": 23,
   "metadata": {},
   "outputs": [],
   "source": [
    "# For trainset\n",
    "train_x = train_set.drop('Close', axis = 1)\n",
    "train_y = train_set['Close']\n",
    "\n",
    "# For testset\n",
    "test_x = test_set.drop('Close', axis = 1)\n",
    "test_y = test_set['Close']"
   ]
  },
  {
   "cell_type": "markdown",
   "metadata": {},
   "source": [
    " "
   ]
  },
  {
   "cell_type": "markdown",
   "metadata": {},
   "source": [
    "Drifferent training models"
   ]
  },
  {
   "cell_type": "code",
   "execution_count": 24,
   "metadata": {},
   "outputs": [
    {
     "data": {
      "text/plain": [
       "DecisionTreeRegressor()"
      ]
     },
     "execution_count": 24,
     "metadata": {},
     "output_type": "execute_result"
    }
   ],
   "source": [
    "# Decision Tree\n",
    "from sklearn.tree import DecisionTreeRegressor\n",
    "\n",
    "# Decision Tree Model object\n",
    "dtr = DecisionTreeRegressor()\n",
    "# Training the training data\n",
    "dtr.fit(train_x, train_y)"
   ]
  },
  {
   "cell_type": "code",
   "execution_count": 67,
   "metadata": {},
   "outputs": [
    {
     "data": {
      "text/html": [
       "<div>\n",
       "<style scoped>\n",
       "    .dataframe tbody tr th:only-of-type {\n",
       "        vertical-align: middle;\n",
       "    }\n",
       "\n",
       "    .dataframe tbody tr th {\n",
       "        vertical-align: top;\n",
       "    }\n",
       "\n",
       "    .dataframe thead th {\n",
       "        text-align: right;\n",
       "    }\n",
       "</style>\n",
       "<table border=\"1\" class=\"dataframe\">\n",
       "  <thead>\n",
       "    <tr style=\"text-align: right;\">\n",
       "      <th></th>\n",
       "      <th>Actual value:</th>\n",
       "      <th>Predicted value:</th>\n",
       "    </tr>\n",
       "  </thead>\n",
       "  <tbody>\n",
       "    <tr>\n",
       "      <th>3720</th>\n",
       "      <td>25816.359375</td>\n",
       "      <td>25775.740234</td>\n",
       "    </tr>\n",
       "    <tr>\n",
       "      <th>724</th>\n",
       "      <td>5695.669922</td>\n",
       "      <td>5842.200195</td>\n",
       "    </tr>\n",
       "    <tr>\n",
       "      <th>297</th>\n",
       "      <td>3395.590088</td>\n",
       "      <td>3401.149902</td>\n",
       "    </tr>\n",
       "    <tr>\n",
       "      <th>2088</th>\n",
       "      <td>15009.769531</td>\n",
       "      <td>14875.519531</td>\n",
       "    </tr>\n",
       "    <tr>\n",
       "      <th>4154</th>\n",
       "      <td>34843.511719</td>\n",
       "      <td>34616.128906</td>\n",
       "    </tr>\n",
       "  </tbody>\n",
       "</table>\n",
       "</div>"
      ],
      "text/plain": [
       "      Actual value:  Predicted value:\n",
       "3720   25816.359375      25775.740234\n",
       "724     5695.669922       5842.200195\n",
       "297     3395.590088       3401.149902\n",
       "2088   15009.769531      14875.519531\n",
       "4154   34843.511719      34616.128906"
      ]
     },
     "execution_count": 67,
     "metadata": {},
     "output_type": "execute_result"
    }
   ],
   "source": [
    "# Predicting the values on testset\n",
    "predicted = dtr.predict(test_x)\n",
    "pd.DataFrame({'Actual value:':test_y, 'Predicted value:':predicted})[:5]"
   ]
  },
  {
   "cell_type": "code",
   "execution_count": 68,
   "metadata": {},
   "outputs": [
    {
     "name": "stdout",
     "output_type": "stream",
     "text": [
      "Mean Squared Error:  40752.406502315745\n",
      "Mean absolute error:  130.07969490426487\n"
     ]
    }
   ],
   "source": [
    "# finding the error diffrence\n",
    "print('Mean Squared Error: ', mean_squared_error(test_y, predicted))\n",
    "print('Mean absolute error: ',mean_absolute_error(test_y, predicted))"
   ]
  },
  {
   "cell_type": "markdown",
   "metadata": {},
   "source": [
    " "
   ]
  },
  {
   "cell_type": "code",
   "execution_count": 37,
   "metadata": {},
   "outputs": [
    {
     "data": {
      "text/plain": [
       "RandomForestRegressor()"
      ]
     },
     "execution_count": 37,
     "metadata": {},
     "output_type": "execute_result"
    }
   ],
   "source": [
    "# Random Forest\n",
    "from sklearn.ensemble import RandomForestRegressor\n",
    "\n",
    "# Random Forest Model object\n",
    "rfr = RandomForestRegressor()\n",
    "rfr.fit(train_x, train_y)"
   ]
  },
  {
   "cell_type": "code",
   "execution_count": 69,
   "metadata": {},
   "outputs": [
    {
     "data": {
      "text/html": [
       "<div>\n",
       "<style scoped>\n",
       "    .dataframe tbody tr th:only-of-type {\n",
       "        vertical-align: middle;\n",
       "    }\n",
       "\n",
       "    .dataframe tbody tr th {\n",
       "        vertical-align: top;\n",
       "    }\n",
       "\n",
       "    .dataframe thead th {\n",
       "        text-align: right;\n",
       "    }\n",
       "</style>\n",
       "<table border=\"1\" class=\"dataframe\">\n",
       "  <thead>\n",
       "    <tr style=\"text-align: right;\">\n",
       "      <th></th>\n",
       "      <th>Actual value:</th>\n",
       "      <th>Predicted value:</th>\n",
       "    </tr>\n",
       "  </thead>\n",
       "  <tbody>\n",
       "    <tr>\n",
       "      <th>3720</th>\n",
       "      <td>25816.359375</td>\n",
       "      <td>25744.730957</td>\n",
       "    </tr>\n",
       "    <tr>\n",
       "      <th>724</th>\n",
       "      <td>5695.669922</td>\n",
       "      <td>5782.744404</td>\n",
       "    </tr>\n",
       "    <tr>\n",
       "      <th>297</th>\n",
       "      <td>3395.590088</td>\n",
       "      <td>3402.977273</td>\n",
       "    </tr>\n",
       "    <tr>\n",
       "      <th>2088</th>\n",
       "      <td>15009.769531</td>\n",
       "      <td>15052.714062</td>\n",
       "    </tr>\n",
       "    <tr>\n",
       "      <th>4154</th>\n",
       "      <td>34843.511719</td>\n",
       "      <td>34651.392422</td>\n",
       "    </tr>\n",
       "  </tbody>\n",
       "</table>\n",
       "</div>"
      ],
      "text/plain": [
       "      Actual value:  Predicted value:\n",
       "3720   25816.359375      25744.730957\n",
       "724     5695.669922       5782.744404\n",
       "297     3395.590088       3402.977273\n",
       "2088   15009.769531      15052.714062\n",
       "4154   34843.511719      34651.392422"
      ]
     },
     "execution_count": 69,
     "metadata": {},
     "output_type": "execute_result"
    }
   ],
   "source": [
    "# Predicting the values on testset\n",
    "predicted = rfr.predict(test_x)\n",
    "pd.DataFrame({'Actual value:':test_y, 'Predicted value:':predicted})[:5]"
   ]
  },
  {
   "cell_type": "code",
   "execution_count": 70,
   "metadata": {},
   "outputs": [
    {
     "name": "stdout",
     "output_type": "stream",
     "text": [
      "Mean Squared Error:  25350.011904133775\n",
      "Mean absolute error:  101.08159029100764\n"
     ]
    }
   ],
   "source": [
    "# finding the error diffrence\n",
    "print('Mean Squared Error: ', mean_squared_error(test_y, predicted))\n",
    "print('Mean absolute error: ',mean_absolute_error(test_y, predicted))"
   ]
  },
  {
   "cell_type": "markdown",
   "metadata": {},
   "source": [
    " "
   ]
  },
  {
   "cell_type": "markdown",
   "metadata": {},
   "source": [
    "We can see that Random Forest Regression performs better"
   ]
  },
  {
   "cell_type": "markdown",
   "metadata": {},
   "source": [
    "***"
   ]
  },
  {
   "cell_type": "markdown",
   "metadata": {},
   "source": [
    "Thank You :)"
   ]
  }
 ],
 "metadata": {
  "kernelspec": {
   "display_name": "Python 3",
   "language": "python",
   "name": "python3"
  },
  "language_info": {
   "codemirror_mode": {
    "name": "ipython",
    "version": 3
   },
   "file_extension": ".py",
   "mimetype": "text/x-python",
   "name": "python",
   "nbconvert_exporter": "python",
   "pygments_lexer": "ipython3",
   "version": "3.8.3"
  }
 },
 "nbformat": 4,
 "nbformat_minor": 4
}
